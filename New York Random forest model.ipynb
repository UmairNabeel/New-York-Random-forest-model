{
 "cells": [
  {
   "cell_type": "markdown",
   "metadata": {},
   "source": [
    "**Overall Objective**: Create a model that predicts rent prices as well as possible for typical New York City apartments."
   ]
  },
  {
   "cell_type": "markdown",
   "metadata": {},
   "source": [
    "### Part 1 - Create and evaluate an initial model\n"
   ]
  },
  {
   "cell_type": "code",
   "execution_count": 1,
   "metadata": {},
   "outputs": [
    {
     "name": "stdout",
     "output_type": "stream",
     "text": [
      "(20000, 16)\n"
     ]
    },
    {
     "data": {
      "text/html": [
       "<div>\n",
       "<style scoped>\n",
       "    .dataframe tbody tr th:only-of-type {\n",
       "        vertical-align: middle;\n",
       "    }\n",
       "\n",
       "    .dataframe tbody tr th {\n",
       "        vertical-align: top;\n",
       "    }\n",
       "\n",
       "    .dataframe thead th {\n",
       "        text-align: right;\n",
       "    }\n",
       "</style>\n",
       "<table border=\"1\" class=\"dataframe\">\n",
       "  <thead>\n",
       "    <tr style=\"text-align: right;\">\n",
       "      <th></th>\n",
       "      <th>Unnamed: 0</th>\n",
       "      <th>bathrooms</th>\n",
       "      <th>bedrooms</th>\n",
       "      <th>building_id</th>\n",
       "      <th>created</th>\n",
       "      <th>description</th>\n",
       "      <th>display_address</th>\n",
       "      <th>features</th>\n",
       "      <th>latitude</th>\n",
       "      <th>longitude</th>\n",
       "      <th>manager_id</th>\n",
       "      <th>photos</th>\n",
       "      <th>price</th>\n",
       "      <th>street_address</th>\n",
       "      <th>interest_level</th>\n",
       "      <th>num_desc_words</th>\n",
       "    </tr>\n",
       "  </thead>\n",
       "  <tbody>\n",
       "    <tr>\n",
       "      <th>0</th>\n",
       "      <td>0</td>\n",
       "      <td>1.0</td>\n",
       "      <td>2</td>\n",
       "      <td>0</td>\n",
       "      <td>2016-06-21 07:29:45</td>\n",
       "      <td>Makr this stunning place your new home!- 2 bed...</td>\n",
       "      <td>New Lots</td>\n",
       "      <td>['Pre-War', 'Hardwood Floors']</td>\n",
       "      <td>40.6678</td>\n",
       "      <td>-73.8788</td>\n",
       "      <td>17dd8baf35198562ff9524b486f1754a</td>\n",
       "      <td>['https://photos.renthop.com/2/7194943_5fafcb8...</td>\n",
       "      <td>1475.0</td>\n",
       "      <td>864 New Lots</td>\n",
       "      <td>high</td>\n",
       "      <td>41</td>\n",
       "    </tr>\n",
       "    <tr>\n",
       "      <th>1</th>\n",
       "      <td>1</td>\n",
       "      <td>1.0</td>\n",
       "      <td>2</td>\n",
       "      <td>3cc586423f9e977a0f991b010242baa6</td>\n",
       "      <td>2016-06-22 06:44:29</td>\n",
       "      <td>Amazing location!Hardwood floors marble bath g...</td>\n",
       "      <td>Bleecker Street</td>\n",
       "      <td>['Elevator', 'Laundry in Building', 'Dishwashe...</td>\n",
       "      <td>40.7285</td>\n",
       "      <td>-74.0000</td>\n",
       "      <td>1fb46c4a72bcf764ac35fc23f394760d</td>\n",
       "      <td>['https://photos.renthop.com/2/7201657_9fe4dcc...</td>\n",
       "      <td>3800.0</td>\n",
       "      <td>160 Bleecker Street</td>\n",
       "      <td>high</td>\n",
       "      <td>46</td>\n",
       "    </tr>\n",
       "    <tr>\n",
       "      <th>2</th>\n",
       "      <td>2</td>\n",
       "      <td>1.0</td>\n",
       "      <td>1</td>\n",
       "      <td>cd759a988b8f23924b5a2058d5ab2b49</td>\n",
       "      <td>2016-05-04 02:26:23</td>\n",
       "      <td>DON'T MISS OUT !!! ONE IN A KIND GORGEOUS, HUG...</td>\n",
       "      <td>E 56 St.</td>\n",
       "      <td>['Doorman', 'Elevator', 'Laundry in Building',...</td>\n",
       "      <td>40.7575</td>\n",
       "      <td>-73.9626</td>\n",
       "      <td>f52612ad89c61a21e84172f0af0d4436</td>\n",
       "      <td>['https://photos.renthop.com/2/6962322_dc4fbd1...</td>\n",
       "      <td>2850.0</td>\n",
       "      <td>405 E 56 St.</td>\n",
       "      <td>low</td>\n",
       "      <td>119</td>\n",
       "    </tr>\n",
       "    <tr>\n",
       "      <th>3</th>\n",
       "      <td>3</td>\n",
       "      <td>1.0</td>\n",
       "      <td>3</td>\n",
       "      <td>250ae11aef7ca5668ea55763085d3ff8</td>\n",
       "      <td>2016-06-29 04:31:54</td>\n",
       "      <td>Not the prettiest, but large, bright and cheap...</td>\n",
       "      <td>E 69 Street</td>\n",
       "      <td>[]</td>\n",
       "      <td>40.7657</td>\n",
       "      <td>-73.9572</td>\n",
       "      <td>ac888923cda3b9e4f0311267be25de9c</td>\n",
       "      <td>['https://photos.renthop.com/2/7231045_6bdf593...</td>\n",
       "      <td>3600.0</td>\n",
       "      <td>402 E 69 Street</td>\n",
       "      <td>low</td>\n",
       "      <td>61</td>\n",
       "    </tr>\n",
       "    <tr>\n",
       "      <th>4</th>\n",
       "      <td>4</td>\n",
       "      <td>1.0</td>\n",
       "      <td>2</td>\n",
       "      <td>ec1fe7f38e244003ea14df8d2677aa87</td>\n",
       "      <td>2016-04-30 02:23:20</td>\n",
       "      <td>BRIGHT &amp; SUNNNY 2BR/1BA IN PRIME SUNNYSIDE LOC...</td>\n",
       "      <td>46th Street</td>\n",
       "      <td>['Dogs Allowed', 'Cats Allowed']</td>\n",
       "      <td>40.7379</td>\n",
       "      <td>-73.9196</td>\n",
       "      <td>f2a70ad9a85be944fbe2ca18e9b323cd</td>\n",
       "      <td>['https://photos.renthop.com/2/6945125_02ed49c...</td>\n",
       "      <td>1995.0</td>\n",
       "      <td>48-45 46th Street</td>\n",
       "      <td>high</td>\n",
       "      <td>157</td>\n",
       "    </tr>\n",
       "  </tbody>\n",
       "</table>\n",
       "</div>"
      ],
      "text/plain": [
       "   Unnamed: 0  bathrooms  bedrooms                       building_id  \\\n",
       "0           0        1.0         2                                 0   \n",
       "1           1        1.0         2  3cc586423f9e977a0f991b010242baa6   \n",
       "2           2        1.0         1  cd759a988b8f23924b5a2058d5ab2b49   \n",
       "3           3        1.0         3  250ae11aef7ca5668ea55763085d3ff8   \n",
       "4           4        1.0         2  ec1fe7f38e244003ea14df8d2677aa87   \n",
       "\n",
       "               created                                        description  \\\n",
       "0  2016-06-21 07:29:45  Makr this stunning place your new home!- 2 bed...   \n",
       "1  2016-06-22 06:44:29  Amazing location!Hardwood floors marble bath g...   \n",
       "2  2016-05-04 02:26:23  DON'T MISS OUT !!! ONE IN A KIND GORGEOUS, HUG...   \n",
       "3  2016-06-29 04:31:54  Not the prettiest, but large, bright and cheap...   \n",
       "4  2016-04-30 02:23:20  BRIGHT & SUNNNY 2BR/1BA IN PRIME SUNNYSIDE LOC...   \n",
       "\n",
       "   display_address                                           features  \\\n",
       "0         New Lots                     ['Pre-War', 'Hardwood Floors']   \n",
       "1  Bleecker Street  ['Elevator', 'Laundry in Building', 'Dishwashe...   \n",
       "2         E 56 St.  ['Doorman', 'Elevator', 'Laundry in Building',...   \n",
       "3      E 69 Street                                                 []   \n",
       "4      46th Street                   ['Dogs Allowed', 'Cats Allowed']   \n",
       "\n",
       "   latitude  longitude                        manager_id  \\\n",
       "0   40.6678   -73.8788  17dd8baf35198562ff9524b486f1754a   \n",
       "1   40.7285   -74.0000  1fb46c4a72bcf764ac35fc23f394760d   \n",
       "2   40.7575   -73.9626  f52612ad89c61a21e84172f0af0d4436   \n",
       "3   40.7657   -73.9572  ac888923cda3b9e4f0311267be25de9c   \n",
       "4   40.7379   -73.9196  f2a70ad9a85be944fbe2ca18e9b323cd   \n",
       "\n",
       "                                              photos   price  \\\n",
       "0  ['https://photos.renthop.com/2/7194943_5fafcb8...  1475.0   \n",
       "1  ['https://photos.renthop.com/2/7201657_9fe4dcc...  3800.0   \n",
       "2  ['https://photos.renthop.com/2/6962322_dc4fbd1...  2850.0   \n",
       "3  ['https://photos.renthop.com/2/7231045_6bdf593...  3600.0   \n",
       "4  ['https://photos.renthop.com/2/6945125_02ed49c...  1995.0   \n",
       "\n",
       "        street_address interest_level  num_desc_words  \n",
       "0         864 New Lots           high              41  \n",
       "1  160 Bleecker Street           high              46  \n",
       "2         405 E 56 St.            low             119  \n",
       "3      402 E 69 Street            low              61  \n",
       "4    48-45 46th Street           high             157  "
      ]
     },
     "execution_count": 1,
     "metadata": {},
     "output_type": "execute_result"
    }
   ],
   "source": [
    "import pandas as pd\n",
    "df = pd.read_csv(\"D:/St Clair/Semester 2/DAB200 Machine learning 1/Lab/Lab 2/rent_5.csv\",dtype={'price': float})\n",
    "print(df.shape) \n",
    "df.head(5)       "
   ]
  },
  {
   "cell_type": "code",
   "execution_count": 2,
   "metadata": {},
   "outputs": [
    {
     "data": {
      "text/html": [
       "<div>\n",
       "<style scoped>\n",
       "    .dataframe tbody tr th:only-of-type {\n",
       "        vertical-align: middle;\n",
       "    }\n",
       "\n",
       "    .dataframe tbody tr th {\n",
       "        vertical-align: top;\n",
       "    }\n",
       "\n",
       "    .dataframe thead th {\n",
       "        text-align: right;\n",
       "    }\n",
       "</style>\n",
       "<table border=\"1\" class=\"dataframe\">\n",
       "  <thead>\n",
       "    <tr style=\"text-align: right;\">\n",
       "      <th></th>\n",
       "      <th>0</th>\n",
       "      <th>1</th>\n",
       "    </tr>\n",
       "  </thead>\n",
       "  <tbody>\n",
       "    <tr>\n",
       "      <th>Unnamed: 0</th>\n",
       "      <td>0</td>\n",
       "      <td>1</td>\n",
       "    </tr>\n",
       "    <tr>\n",
       "      <th>bathrooms</th>\n",
       "      <td>1.0</td>\n",
       "      <td>1.0</td>\n",
       "    </tr>\n",
       "    <tr>\n",
       "      <th>bedrooms</th>\n",
       "      <td>2</td>\n",
       "      <td>2</td>\n",
       "    </tr>\n",
       "    <tr>\n",
       "      <th>building_id</th>\n",
       "      <td>0</td>\n",
       "      <td>3cc586423f9e977a0f991b010242baa6</td>\n",
       "    </tr>\n",
       "    <tr>\n",
       "      <th>created</th>\n",
       "      <td>2016-06-21 07:29:45</td>\n",
       "      <td>2016-06-22 06:44:29</td>\n",
       "    </tr>\n",
       "    <tr>\n",
       "      <th>description</th>\n",
       "      <td>Makr this stunning place your new home!- 2 bed...</td>\n",
       "      <td>Amazing location!Hardwood floors marble bath g...</td>\n",
       "    </tr>\n",
       "    <tr>\n",
       "      <th>display_address</th>\n",
       "      <td>New Lots</td>\n",
       "      <td>Bleecker Street</td>\n",
       "    </tr>\n",
       "    <tr>\n",
       "      <th>features</th>\n",
       "      <td>['Pre-War', 'Hardwood Floors']</td>\n",
       "      <td>['Elevator', 'Laundry in Building', 'Dishwashe...</td>\n",
       "    </tr>\n",
       "    <tr>\n",
       "      <th>latitude</th>\n",
       "      <td>40.6678</td>\n",
       "      <td>40.7285</td>\n",
       "    </tr>\n",
       "    <tr>\n",
       "      <th>longitude</th>\n",
       "      <td>-73.8788</td>\n",
       "      <td>-74.0</td>\n",
       "    </tr>\n",
       "    <tr>\n",
       "      <th>manager_id</th>\n",
       "      <td>17dd8baf35198562ff9524b486f1754a</td>\n",
       "      <td>1fb46c4a72bcf764ac35fc23f394760d</td>\n",
       "    </tr>\n",
       "    <tr>\n",
       "      <th>photos</th>\n",
       "      <td>['https://photos.renthop.com/2/7194943_5fafcb8...</td>\n",
       "      <td>['https://photos.renthop.com/2/7201657_9fe4dcc...</td>\n",
       "    </tr>\n",
       "    <tr>\n",
       "      <th>price</th>\n",
       "      <td>1475.0</td>\n",
       "      <td>3800.0</td>\n",
       "    </tr>\n",
       "    <tr>\n",
       "      <th>street_address</th>\n",
       "      <td>864 New Lots</td>\n",
       "      <td>160 Bleecker Street</td>\n",
       "    </tr>\n",
       "    <tr>\n",
       "      <th>interest_level</th>\n",
       "      <td>high</td>\n",
       "      <td>high</td>\n",
       "    </tr>\n",
       "    <tr>\n",
       "      <th>num_desc_words</th>\n",
       "      <td>41</td>\n",
       "      <td>46</td>\n",
       "    </tr>\n",
       "  </tbody>\n",
       "</table>\n",
       "</div>"
      ],
      "text/plain": [
       "                                                                 0  \\\n",
       "Unnamed: 0                                                       0   \n",
       "bathrooms                                                      1.0   \n",
       "bedrooms                                                         2   \n",
       "building_id                                                      0   \n",
       "created                                        2016-06-21 07:29:45   \n",
       "description      Makr this stunning place your new home!- 2 bed...   \n",
       "display_address                                           New Lots   \n",
       "features                            ['Pre-War', 'Hardwood Floors']   \n",
       "latitude                                                   40.6678   \n",
       "longitude                                                 -73.8788   \n",
       "manager_id                        17dd8baf35198562ff9524b486f1754a   \n",
       "photos           ['https://photos.renthop.com/2/7194943_5fafcb8...   \n",
       "price                                                       1475.0   \n",
       "street_address                                        864 New Lots   \n",
       "interest_level                                                high   \n",
       "num_desc_words                                                  41   \n",
       "\n",
       "                                                                 1  \n",
       "Unnamed: 0                                                       1  \n",
       "bathrooms                                                      1.0  \n",
       "bedrooms                                                         2  \n",
       "building_id                       3cc586423f9e977a0f991b010242baa6  \n",
       "created                                        2016-06-22 06:44:29  \n",
       "description      Amazing location!Hardwood floors marble bath g...  \n",
       "display_address                                    Bleecker Street  \n",
       "features         ['Elevator', 'Laundry in Building', 'Dishwashe...  \n",
       "latitude                                                   40.7285  \n",
       "longitude                                                    -74.0  \n",
       "manager_id                        1fb46c4a72bcf764ac35fc23f394760d  \n",
       "photos           ['https://photos.renthop.com/2/7201657_9fe4dcc...  \n",
       "price                                                       3800.0  \n",
       "street_address                                 160 Bleecker Street  \n",
       "interest_level                                                high  \n",
       "num_desc_words                                                  46  "
      ]
     },
     "execution_count": 2,
     "metadata": {},
     "output_type": "execute_result"
    }
   ],
   "source": [
    "#Because there are a lot of columns, some of which are quite wide, let's flip the display so that the columns are vertical.\n",
    "df.head(2).T"
   ]
  },
  {
   "cell_type": "code",
   "execution_count": 3,
   "metadata": {},
   "outputs": [
    {
     "name": "stdout",
     "output_type": "stream",
     "text": [
      "<class 'pandas.core.frame.DataFrame'>\n",
      "RangeIndex: 20000 entries, 0 to 19999\n",
      "Data columns (total 16 columns):\n",
      " #   Column           Non-Null Count  Dtype  \n",
      "---  ------           --------------  -----  \n",
      " 0   Unnamed: 0       20000 non-null  int64  \n",
      " 1   bathrooms        20000 non-null  float64\n",
      " 2   bedrooms         20000 non-null  int64  \n",
      " 3   building_id      20000 non-null  object \n",
      " 4   created          20000 non-null  object \n",
      " 5   description      19367 non-null  object \n",
      " 6   display_address  19951 non-null  object \n",
      " 7   features         20000 non-null  object \n",
      " 8   latitude         20000 non-null  float64\n",
      " 9   longitude        20000 non-null  float64\n",
      " 10  manager_id       20000 non-null  object \n",
      " 11  photos           20000 non-null  object \n",
      " 12  price            20000 non-null  float64\n",
      " 13  street_address   19997 non-null  object \n",
      " 14  interest_level   20000 non-null  object \n",
      " 15  num_desc_words   20000 non-null  int64  \n",
      "dtypes: float64(4), int64(3), object(9)\n",
      "memory usage: 2.4+ MB\n"
     ]
    }
   ],
   "source": [
    "df.info()"
   ]
  },
  {
   "cell_type": "code",
   "execution_count": 4,
   "metadata": {},
   "outputs": [
    {
     "data": {
      "text/html": [
       "<div>\n",
       "<style scoped>\n",
       "    .dataframe tbody tr th:only-of-type {\n",
       "        vertical-align: middle;\n",
       "    }\n",
       "\n",
       "    .dataframe tbody tr th {\n",
       "        vertical-align: top;\n",
       "    }\n",
       "\n",
       "    .dataframe thead th {\n",
       "        text-align: right;\n",
       "    }\n",
       "</style>\n",
       "<table border=\"1\" class=\"dataframe\">\n",
       "  <thead>\n",
       "    <tr style=\"text-align: right;\">\n",
       "      <th></th>\n",
       "      <th>bathrooms</th>\n",
       "      <th>bedrooms</th>\n",
       "      <th>longitude</th>\n",
       "      <th>latitude</th>\n",
       "      <th>price</th>\n",
       "    </tr>\n",
       "  </thead>\n",
       "  <tbody>\n",
       "    <tr>\n",
       "      <th>0</th>\n",
       "      <td>1.0</td>\n",
       "      <td>2</td>\n",
       "      <td>-73.8788</td>\n",
       "      <td>40.6678</td>\n",
       "      <td>1475.0</td>\n",
       "    </tr>\n",
       "    <tr>\n",
       "      <th>1</th>\n",
       "      <td>1.0</td>\n",
       "      <td>2</td>\n",
       "      <td>-74.0000</td>\n",
       "      <td>40.7285</td>\n",
       "      <td>3800.0</td>\n",
       "    </tr>\n",
       "  </tbody>\n",
       "</table>\n",
       "</div>"
      ],
      "text/plain": [
       "   bathrooms  bedrooms  longitude  latitude   price\n",
       "0        1.0         2   -73.8788   40.6678  1475.0\n",
       "1        1.0         2   -74.0000   40.7285  3800.0"
      ]
     },
     "execution_count": 4,
     "metadata": {},
     "output_type": "execute_result"
    }
   ],
   "source": [
    "#Dropping all the non numeric fields\n",
    "df_num = df[['bathrooms', 'bedrooms', 'longitude', 'latitude', 'price']]\n",
    "df_num.head(2)"
   ]
  },
  {
   "cell_type": "code",
   "execution_count": 5,
   "metadata": {},
   "outputs": [
    {
     "name": "stdout",
     "output_type": "stream",
     "text": [
      "bathrooms    False\n",
      "bedrooms     False\n",
      "longitude    False\n",
      "latitude     False\n",
      "price        False\n",
      "dtype: bool\n"
     ]
    }
   ],
   "source": [
    "#checkinng null values\n",
    "print(df_num.isnull().any())"
   ]
  },
  {
   "cell_type": "code",
   "execution_count": 6,
   "metadata": {},
   "outputs": [],
   "source": [
    "#importing library and Separate the features and target columns.\n",
    "from sklearn.model_selection import train_test_split\n",
    "X = df_num.drop('price', axis=1)\n",
    "y = df_num['price']\n",
    "X_train, X_test, y_train, y_test = train_test_split(X, y, test_size=0.2, random_state=123)"
   ]
  },
  {
   "cell_type": "code",
   "execution_count": 7,
   "metadata": {},
   "outputs": [],
   "source": [
    "#Creating an appropriate model with suitable hyper-parameters.\n",
    "from sklearn.ensemble import RandomForestRegressor\n",
    "rf = RandomForestRegressor(n_estimators=100,\n",
    "                           n_jobs=-1)"
   ]
  },
  {
   "cell_type": "code",
   "execution_count": 8,
   "metadata": {},
   "outputs": [
    {
     "data": {
      "text/plain": [
       "RandomForestRegressor(n_jobs=-1)"
      ]
     },
     "execution_count": 8,
     "metadata": {},
     "output_type": "execute_result"
    }
   ],
   "source": [
    "#Fitting model to the training data\n",
    "rf.fit(X_train, y_train)"
   ]
  },
  {
   "cell_type": "code",
   "execution_count": 9,
   "metadata": {},
   "outputs": [
    {
     "name": "stdout",
     "output_type": "stream",
     "text": [
      "0.8901\n"
     ]
    }
   ],
   "source": [
    "#calculating R2 for training data\n",
    "r2 = rf.score(X_train, y_train)\n",
    "print( f\"{r2:.4f}\" )"
   ]
  },
  {
   "cell_type": "code",
   "execution_count": 10,
   "metadata": {},
   "outputs": [
    {
     "name": "stdout",
     "output_type": "stream",
     "text": [
      "$284 average error; 7.61% error\n"
     ]
    }
   ],
   "source": [
    "#calculating the mean squared error for training data\n",
    "\n",
    "from sklearn.metrics import mean_absolute_error\n",
    "\n",
    "predictions = rf.predict(X_train)\n",
    "\n",
    "e_train = mean_absolute_error(y_train, predictions)\n",
    "\n",
    "ep_train = e_train*100 / y.mean()\n",
    "\n",
    "print(f\"${e_train:.0f} average error; {ep_train:.2f}% error\")"
   ]
  },
  {
   "cell_type": "code",
   "execution_count": 11,
   "metadata": {},
   "outputs": [
    {
     "name": "stdout",
     "output_type": "stream",
     "text": [
      "OOB score -0.0090\n"
     ]
    }
   ],
   "source": [
    "#calculating out of box score for training data \n",
    "\n",
    "rf = RandomForestRegressor(n_estimators=100,\n",
    "                           n_jobs=-1,\n",
    "                           oob_score=True)   # get error estimate\n",
    "rf.fit(X_train, y_train)\n",
    "noisy_oob_r2 = rf.oob_score_\n",
    "print(f\"OOB score {noisy_oob_r2:.4f}\")"
   ]
  },
  {
   "cell_type": "code",
   "execution_count": 12,
   "metadata": {},
   "outputs": [
    {
     "data": {
      "text/plain": [
       "RandomForestRegressor(n_jobs=-1, oob_score=True)"
      ]
     },
     "execution_count": 12,
     "metadata": {},
     "output_type": "execute_result"
    }
   ],
   "source": [
    "#using fit on testing dataset.\n",
    "rf.fit(X_test, y_test)"
   ]
  },
  {
   "cell_type": "code",
   "execution_count": 13,
   "metadata": {},
   "outputs": [
    {
     "name": "stdout",
     "output_type": "stream",
     "text": [
      "$253 average error; 6.77% error\n"
     ]
    }
   ],
   "source": [
    "#calculating MSE on testing data\n",
    "\n",
    "predictions = rf.predict(X_test)\n",
    "\n",
    "e_test = mean_absolute_error(y_test, predictions)\n",
    "\n",
    "ep_test = e_test*100 / y.mean()\n",
    "\n",
    "print(f\"${e_test:.0f} average error; {ep_test:.2f}% error\")"
   ]
  },
  {
   "cell_type": "code",
   "execution_count": 14,
   "metadata": {},
   "outputs": [
    {
     "name": "stdout",
     "output_type": "stream",
     "text": [
      "0.9399\n"
     ]
    }
   ],
   "source": [
    "#calculating R2 for testing data\n",
    "\n",
    "r2_test = rf.score(X_test, y_test)\n",
    "print( f\"{r2_test:.4f}\" )"
   ]
  },
  {
   "cell_type": "code",
   "execution_count": 15,
   "metadata": {},
   "outputs": [
    {
     "name": "stdout",
     "output_type": "stream",
     "text": [
      "OOB score 0.6224\n"
     ]
    }
   ],
   "source": [
    "#calculating Out of box score for testing data \n",
    "\n",
    "rf = RandomForestRegressor(n_estimators=100,\n",
    "                           n_jobs=-1,\n",
    "                           oob_score=True)   # get error estimate\n",
    "rf.fit(X_test, y_test)\n",
    "noisy_oob_r2_test = rf.oob_score_\n",
    "print(f\"OOB score {noisy_oob_r2_test:.4f}\")"
   ]
  },
  {
   "cell_type": "markdown",
   "metadata": {},
   "source": [
    "After importing the dataseet we detect a lot of non-numerical data, including several columns that appear to be lists of objects crammed into a single string. Nonnumeric datatypes are anything other than float and int. We may simply drop such columns. The numeric fields are all that matters: bathrooms, bedrooms, longitude, latitude, and price.\n",
    "\n",
    "Next, we have a correctly prepared data frame, df_num, with just numeric values and no missing values, then we have started training a model by first splitting the dataset into four datasets X_train, X_test, y_train, y_test for training and testing the model at later stage. We have used fit to fit the model on the training data and to actually make a prediction, we call predict() on training dataset.\n",
    "\n",
    "We trained the model on training data and then calculated its r squared score in the code above. The model trained here has an R2 score of 0.8901, which is considered good The r squared score of 1 indicates that the model is flawless, while a score of 0 indicates that the model will perform poorly on an unknown dataset. This also means that the closer the r squared score is to 1, the better the model has been trained.\n",
    "\n",
    "Mean absolute error measures the average magnitude of the errors in a set of predictions without considering their direction and Finding MAE and percentage of error on the train set of data to know the average of the errors in the predictions.The percentage error of training dataset is 7.61%. Next we have calculated out of bag score for training dataset which has come out to be -0.0090 which indicates that the model as per this parameter is performing very badly. The OOB score is computed as the number of correctly predicted rows from the out of bag sample.\n",
    "\n",
    "Next, we are fitting the model on testing dataset and calculating the r squared score,Mean absolute error and out of bag score. Our R2 score is 0.9399 which indicates the model is performing good on testing dataset.OOB score isn OOB score is 0.6224 which is quiet good when compared the OOB score on testing dataset and our MSE have also decreased on testing dataset."
   ]
  },
  {
   "cell_type": "markdown",
   "metadata": {},
   "source": [
    "### Part 2 - Denoise the data\n",
    "\n",
    "This section I include the code necessary to **denoise** the data, and it include what is needed to identify inconsistencies, problems, errors, etc. in the data. "
   ]
  },
  {
   "cell_type": "code",
   "execution_count": 16,
   "metadata": {},
   "outputs": [],
   "source": [
    "#setting the format of float variables to decimal 5 characters to better understand the data\n",
    "pd.options.display.float_format = '{:.5f}'.format"
   ]
  },
  {
   "cell_type": "code",
   "execution_count": 17,
   "metadata": {},
   "outputs": [
    {
     "data": {
      "text/html": [
       "<div>\n",
       "<style scoped>\n",
       "    .dataframe tbody tr th:only-of-type {\n",
       "        vertical-align: middle;\n",
       "    }\n",
       "\n",
       "    .dataframe tbody tr th {\n",
       "        vertical-align: top;\n",
       "    }\n",
       "\n",
       "    .dataframe thead th {\n",
       "        text-align: right;\n",
       "    }\n",
       "</style>\n",
       "<table border=\"1\" class=\"dataframe\">\n",
       "  <thead>\n",
       "    <tr style=\"text-align: right;\">\n",
       "      <th></th>\n",
       "      <th>bathrooms</th>\n",
       "      <th>bedrooms</th>\n",
       "      <th>longitude</th>\n",
       "      <th>latitude</th>\n",
       "      <th>price</th>\n",
       "    </tr>\n",
       "  </thead>\n",
       "  <tbody>\n",
       "    <tr>\n",
       "      <th>count</th>\n",
       "      <td>20000.00000</td>\n",
       "      <td>20000.00000</td>\n",
       "      <td>20000.00000</td>\n",
       "      <td>20000.00000</td>\n",
       "      <td>20000.00000</td>\n",
       "    </tr>\n",
       "    <tr>\n",
       "      <th>mean</th>\n",
       "      <td>1.21405</td>\n",
       "      <td>1.54525</td>\n",
       "      <td>-73.82665</td>\n",
       "      <td>40.70347</td>\n",
       "      <td>3733.58250</td>\n",
       "    </tr>\n",
       "    <tr>\n",
       "      <th>std</th>\n",
       "      <td>0.50069</td>\n",
       "      <td>1.11419</td>\n",
       "      <td>6.68187</td>\n",
       "      <td>1.80229</td>\n",
       "      <td>8014.78253</td>\n",
       "    </tr>\n",
       "    <tr>\n",
       "      <th>min</th>\n",
       "      <td>0.00000</td>\n",
       "      <td>0.00000</td>\n",
       "      <td>-124.01510</td>\n",
       "      <td>-18.97900</td>\n",
       "      <td>-18000.00000</td>\n",
       "    </tr>\n",
       "    <tr>\n",
       "      <th>25%</th>\n",
       "      <td>1.00000</td>\n",
       "      <td>1.00000</td>\n",
       "      <td>-73.99160</td>\n",
       "      <td>40.72830</td>\n",
       "      <td>2500.00000</td>\n",
       "    </tr>\n",
       "    <tr>\n",
       "      <th>50%</th>\n",
       "      <td>1.00000</td>\n",
       "      <td>1.00000</td>\n",
       "      <td>-73.97790</td>\n",
       "      <td>40.75170</td>\n",
       "      <td>3150.00000</td>\n",
       "    </tr>\n",
       "    <tr>\n",
       "      <th>75%</th>\n",
       "      <td>1.00000</td>\n",
       "      <td>2.00000</td>\n",
       "      <td>-73.95470</td>\n",
       "      <td>40.77450</td>\n",
       "      <td>4134.00000</td>\n",
       "    </tr>\n",
       "    <tr>\n",
       "      <th>max</th>\n",
       "      <td>6.00000</td>\n",
       "      <td>7.00000</td>\n",
       "      <td>158.39500</td>\n",
       "      <td>49.34300</td>\n",
       "      <td>1070000.00000</td>\n",
       "    </tr>\n",
       "  </tbody>\n",
       "</table>\n",
       "</div>"
      ],
      "text/plain": [
       "        bathrooms    bedrooms   longitude    latitude         price\n",
       "count 20000.00000 20000.00000 20000.00000 20000.00000   20000.00000\n",
       "mean      1.21405     1.54525   -73.82665    40.70347    3733.58250\n",
       "std       0.50069     1.11419     6.68187     1.80229    8014.78253\n",
       "min       0.00000     0.00000  -124.01510   -18.97900  -18000.00000\n",
       "25%       1.00000     1.00000   -73.99160    40.72830    2500.00000\n",
       "50%       1.00000     1.00000   -73.97790    40.75170    3150.00000\n",
       "75%       1.00000     2.00000   -73.95470    40.77450    4134.00000\n",
       "max       6.00000     7.00000   158.39500    49.34300 1070000.00000"
      ]
     },
     "execution_count": 17,
     "metadata": {},
     "output_type": "execute_result"
    }
   ],
   "source": [
    "df_num.describe()"
   ]
  },
  {
   "cell_type": "code",
   "execution_count": 43,
   "metadata": {},
   "outputs": [
    {
     "name": "stdout",
     "output_type": "stream",
     "text": [
      "5269    1070000.00000\n",
      "6537     135000.00000\n",
      "19120    111111.00000\n",
      "6881      85000.00000\n",
      "8709      80000.00000\n",
      "13405     50614.00000\n",
      "17123     50000.00000\n",
      "2060      50000.00000\n",
      "2572      48500.00000\n",
      "6801      39995.00000\n",
      "Name: price, dtype: float64\n"
     ]
    }
   ],
   "source": [
    "#Looking at the top 10 prices\n",
    "print(df_num.price.sort_values(ascending=False).head(10))"
   ]
  },
  {
   "cell_type": "code",
   "execution_count": 44,
   "metadata": {},
   "outputs": [
    {
     "data": {
      "text/plain": [
       "371"
      ]
     },
     "execution_count": 44,
     "metadata": {},
     "output_type": "execute_result"
    }
   ],
   "source": [
    "# Counting flats with price greater than 10000 dollars\n",
    "len(df[df.price>10_000])"
   ]
  },
  {
   "cell_type": "code",
   "execution_count": 20,
   "metadata": {},
   "outputs": [
    {
     "name": "stdout",
     "output_type": "stream",
     "text": [
      "1.00000    15973\n",
      "2.00000     3099\n",
      "3.00000      316\n",
      "1.50000      262\n",
      "0.00000      116\n",
      "2.50000      114\n",
      "4.00000       67\n",
      "3.50000       29\n",
      "4.50000       14\n",
      "5.00000        8\n",
      "5.50000        1\n",
      "6.00000        1\n",
      "Name: bathrooms, dtype: int64\n"
     ]
    }
   ],
   "source": [
    "# Checking counts of apartments with specific numbers of bathrooms\n",
    "print(df_num.bathrooms.value_counts())"
   ]
  },
  {
   "cell_type": "code",
   "execution_count": 21,
   "metadata": {},
   "outputs": [
    {
     "name": "stdout",
     "output_type": "stream",
     "text": [
      "1    6390\n",
      "2    5963\n",
      "0    3804\n",
      "3    2928\n",
      "4     791\n",
      "5     104\n",
      "6      19\n",
      "7       1\n",
      "Name: bedrooms, dtype: int64\n"
     ]
    }
   ],
   "source": [
    "#counts of apartments with specific numbers of bedrooms\n",
    "print(df_num.bedrooms.value_counts())"
   ]
  },
  {
   "cell_type": "code",
   "execution_count": 45,
   "metadata": {},
   "outputs": [
    {
     "data": {
      "image/png": "[encoded data removed]",
      "text/plain": [
       "<Figure size 432x288 with 1 Axes>"
      ]
     },
     "metadata": {
      "needs_background": "light"
     },
     "output_type": "display_data"
    }
   ],
   "source": [
    "#histogram of number of bedrooms\n",
    "\n",
    "from matplotlib import pyplot as plt\n",
    "\n",
    "bookcolors = {\n",
    "         'crimson': '#a50026', 'red': '#d73027',\n",
    "         'redorange': '#f46d43', 'orange': '#fdae61',\n",
    "         'yellow': '#fee090', 'sky': '#e0f3f8',\n",
    "         'babyblue': '#abd9e9', 'lightblue': '#74add1',\n",
    "         'blue': '#4575b4', 'purple': '#313695'\n",
    "     }\n",
    "fig,ax = plt.subplots()\n",
    "ax.set_xlabel('Num Bedrooms')\n",
    "ax.set_ylabel('Num Apts')\n",
    "ax.hist(df_num.bedrooms, color=bookcolors['blue'])\n",
    "plt.show()"
   ]
  },
  {
   "cell_type": "code",
   "execution_count": 23,
   "metadata": {},
   "outputs": [
    {
     "name": "stdout",
     "output_type": "stream",
     "text": [
      "6\n"
     ]
    }
   ],
   "source": [
    "#apartments at location 0,0\n",
    "print(len(df[(df.longitude==0.0) & (df.latitude==0.0)]))"
   ]
  },
  {
   "cell_type": "code",
   "execution_count": 46,
   "metadata": {},
   "outputs": [
    {
     "data": {
      "text/html": [
       "<div>\n",
       "<style scoped>\n",
       "    .dataframe tbody tr th:only-of-type {\n",
       "        vertical-align: middle;\n",
       "    }\n",
       "\n",
       "    .dataframe tbody tr th {\n",
       "        vertical-align: top;\n",
       "    }\n",
       "\n",
       "    .dataframe thead th {\n",
       "        text-align: right;\n",
       "    }\n",
       "</style>\n",
       "<table border=\"1\" class=\"dataframe\">\n",
       "  <thead>\n",
       "    <tr style=\"text-align: right;\">\n",
       "      <th></th>\n",
       "      <th>bedrooms</th>\n",
       "      <th>bathrooms</th>\n",
       "      <th>street_address</th>\n",
       "      <th>price</th>\n",
       "    </tr>\n",
       "  </thead>\n",
       "  <tbody>\n",
       "    <tr>\n",
       "      <th>11428</th>\n",
       "      <td>1</td>\n",
       "      <td>1.00000</td>\n",
       "      <td>west 54 st &amp; 8 ave</td>\n",
       "      <td>2300.00000</td>\n",
       "    </tr>\n",
       "    <tr>\n",
       "      <th>19465</th>\n",
       "      <td>1</td>\n",
       "      <td>1.00000</td>\n",
       "      <td>300 West 55th Street</td>\n",
       "      <td>2400.00000</td>\n",
       "    </tr>\n",
       "    <tr>\n",
       "      <th>5269</th>\n",
       "      <td>1</td>\n",
       "      <td>1.00000</td>\n",
       "      <td>333 West 57th Street</td>\n",
       "      <td>1070000.00000</td>\n",
       "    </tr>\n",
       "  </tbody>\n",
       "</table>\n",
       "</div>"
      ],
      "text/plain": [
       "       bedrooms  bathrooms        street_address         price\n",
       "11428         1    1.00000   west 54 st & 8 ave     2300.00000\n",
       "19465         1    1.00000  300 West 55th Street    2400.00000\n",
       "5269          1    1.00000  333 West 57th Street 1070000.00000"
      ]
     },
     "execution_count": 46,
     "metadata": {},
     "output_type": "execute_result"
    }
   ],
   "source": [
    "#Checking price of highest priced apartment in a locality\n",
    "df_local = df[(df.latitude>40.764) & (df.latitude<40.7678) &\n",
    "              (df.longitude>=-73.9844) & (df.longitude<=-73.9842) &\n",
    "           (df.bathrooms==1) & (df.bedrooms==1)]\n",
    "df_local[['bedrooms','bathrooms','street_address','price']].sort_values('price')"
   ]
  },
  {
   "cell_type": "code",
   "execution_count": 25,
   "metadata": {},
   "outputs": [],
   "source": [
    "#deleting apartment outside our price range\n",
    "df_clean = df_num[(df_num.price>1_000) & (df_num.price<10_000)]"
   ]
  },
  {
   "cell_type": "code",
   "execution_count": 26,
   "metadata": {},
   "outputs": [
    {
     "data": {
      "text/html": [
       "<div>\n",
       "<style scoped>\n",
       "    .dataframe tbody tr th:only-of-type {\n",
       "        vertical-align: middle;\n",
       "    }\n",
       "\n",
       "    .dataframe tbody tr th {\n",
       "        vertical-align: top;\n",
       "    }\n",
       "\n",
       "    .dataframe thead th {\n",
       "        text-align: right;\n",
       "    }\n",
       "</style>\n",
       "<table border=\"1\" class=\"dataframe\">\n",
       "  <thead>\n",
       "    <tr style=\"text-align: right;\">\n",
       "      <th></th>\n",
       "      <th>bathrooms</th>\n",
       "      <th>bedrooms</th>\n",
       "      <th>longitude</th>\n",
       "      <th>latitude</th>\n",
       "      <th>price</th>\n",
       "    </tr>\n",
       "  </thead>\n",
       "  <tbody>\n",
       "    <tr>\n",
       "      <th>count</th>\n",
       "      <td>19557.00000</td>\n",
       "      <td>19557.00000</td>\n",
       "      <td>19557.00000</td>\n",
       "      <td>19557.00000</td>\n",
       "      <td>19557.00000</td>\n",
       "    </tr>\n",
       "    <tr>\n",
       "      <th>mean</th>\n",
       "      <td>1.17802</td>\n",
       "      <td>1.51030</td>\n",
       "      <td>-73.82239</td>\n",
       "      <td>40.70198</td>\n",
       "      <td>3437.69065</td>\n",
       "    </tr>\n",
       "    <tr>\n",
       "      <th>std</th>\n",
       "      <td>0.42202</td>\n",
       "      <td>1.08931</td>\n",
       "      <td>6.75565</td>\n",
       "      <td>1.82232</td>\n",
       "      <td>1400.33596</td>\n",
       "    </tr>\n",
       "    <tr>\n",
       "      <th>min</th>\n",
       "      <td>0.00000</td>\n",
       "      <td>0.00000</td>\n",
       "      <td>-124.01510</td>\n",
       "      <td>-18.97900</td>\n",
       "      <td>1048.00000</td>\n",
       "    </tr>\n",
       "    <tr>\n",
       "      <th>25%</th>\n",
       "      <td>1.00000</td>\n",
       "      <td>1.00000</td>\n",
       "      <td>-73.99160</td>\n",
       "      <td>40.72820</td>\n",
       "      <td>2495.00000</td>\n",
       "    </tr>\n",
       "    <tr>\n",
       "      <th>50%</th>\n",
       "      <td>1.00000</td>\n",
       "      <td>1.00000</td>\n",
       "      <td>-73.97790</td>\n",
       "      <td>40.75140</td>\n",
       "      <td>3100.00000</td>\n",
       "    </tr>\n",
       "    <tr>\n",
       "      <th>75%</th>\n",
       "      <td>1.00000</td>\n",
       "      <td>2.00000</td>\n",
       "      <td>-73.95450</td>\n",
       "      <td>40.77430</td>\n",
       "      <td>4000.00000</td>\n",
       "    </tr>\n",
       "    <tr>\n",
       "      <th>max</th>\n",
       "      <td>5.00000</td>\n",
       "      <td>7.00000</td>\n",
       "      <td>158.39500</td>\n",
       "      <td>49.34300</td>\n",
       "      <td>9995.00000</td>\n",
       "    </tr>\n",
       "  </tbody>\n",
       "</table>\n",
       "</div>"
      ],
      "text/plain": [
       "        bathrooms    bedrooms   longitude    latitude       price\n",
       "count 19557.00000 19557.00000 19557.00000 19557.00000 19557.00000\n",
       "mean      1.17802     1.51030   -73.82239    40.70198  3437.69065\n",
       "std       0.42202     1.08931     6.75565     1.82232  1400.33596\n",
       "min       0.00000     0.00000  -124.01510   -18.97900  1048.00000\n",
       "25%       1.00000     1.00000   -73.99160    40.72820  2495.00000\n",
       "50%       1.00000     1.00000   -73.97790    40.75140  3100.00000\n",
       "75%       1.00000     2.00000   -73.95450    40.77430  4000.00000\n",
       "max       5.00000     7.00000   158.39500    49.34300  9995.00000"
      ]
     },
     "execution_count": 26,
     "metadata": {},
     "output_type": "execute_result"
    }
   ],
   "source": [
    "df_clean.describe()"
   ]
  },
  {
   "cell_type": "code",
   "execution_count": 27,
   "metadata": {},
   "outputs": [
    {
     "data": {
      "image/png": "[encoded data removed]",
      "text/plain": [
       "<Figure size 432x288 with 1 Axes>"
      ]
     },
     "metadata": {
      "needs_background": "light"
     },
     "output_type": "display_data"
    }
   ],
   "source": [
    "fig,ax = plt.subplots()\n",
    "ax.set_xlabel('Clipped Price')\n",
    "ax.set_ylabel('Num Apts at that price')\n",
    "ax.hist(df_clean.price, bins=45, color=bookcolors['blue'])\n",
    "plt.show()"
   ]
  },
  {
   "cell_type": "code",
   "execution_count": 47,
   "metadata": {},
   "outputs": [
    {
     "name": "stdout",
     "output_type": "stream",
     "text": [
      "0\n"
     ]
    }
   ],
   "source": [
    "#checking number of apartments at location 0,0\n",
    "df_missing = df_clean[(df_clean.longitude==0) | (df_clean.latitude==0)]\n",
    "print(len(df_missing))"
   ]
  },
  {
   "cell_type": "code",
   "execution_count": 48,
   "metadata": {},
   "outputs": [],
   "source": [
    "#Deleting apartments having latitude and longitude 0,0\n",
    "df_clean = df_clean[(df_clean.longitude!=0) | (df_clean.latitude!=0)]"
   ]
  },
  {
   "cell_type": "code",
   "execution_count": 30,
   "metadata": {},
   "outputs": [
    {
     "data": {
      "text/html": [
       "<div>\n",
       "<style scoped>\n",
       "    .dataframe tbody tr th:only-of-type {\n",
       "        vertical-align: middle;\n",
       "    }\n",
       "\n",
       "    .dataframe tbody tr th {\n",
       "        vertical-align: top;\n",
       "    }\n",
       "\n",
       "    .dataframe thead th {\n",
       "        text-align: right;\n",
       "    }\n",
       "</style>\n",
       "<table border=\"1\" class=\"dataframe\">\n",
       "  <thead>\n",
       "    <tr style=\"text-align: right;\">\n",
       "      <th></th>\n",
       "      <th>bathrooms</th>\n",
       "      <th>bedrooms</th>\n",
       "      <th>longitude</th>\n",
       "      <th>latitude</th>\n",
       "      <th>price</th>\n",
       "    </tr>\n",
       "  </thead>\n",
       "  <tbody>\n",
       "    <tr>\n",
       "      <th>count</th>\n",
       "      <td>19551.00000</td>\n",
       "      <td>19551.00000</td>\n",
       "      <td>19551.00000</td>\n",
       "      <td>19551.00000</td>\n",
       "      <td>19551.00000</td>\n",
       "    </tr>\n",
       "    <tr>\n",
       "      <th>mean</th>\n",
       "      <td>1.17787</td>\n",
       "      <td>1.51010</td>\n",
       "      <td>-73.84505</td>\n",
       "      <td>40.71447</td>\n",
       "      <td>3437.45599</td>\n",
       "    </tr>\n",
       "    <tr>\n",
       "      <th>std</th>\n",
       "      <td>0.42119</td>\n",
       "      <td>1.08893</td>\n",
       "      <td>6.63172</td>\n",
       "      <td>1.67728</td>\n",
       "      <td>1399.71288</td>\n",
       "    </tr>\n",
       "    <tr>\n",
       "      <th>min</th>\n",
       "      <td>0.00000</td>\n",
       "      <td>0.00000</td>\n",
       "      <td>-124.01510</td>\n",
       "      <td>-18.97900</td>\n",
       "      <td>1048.00000</td>\n",
       "    </tr>\n",
       "    <tr>\n",
       "      <th>25%</th>\n",
       "      <td>1.00000</td>\n",
       "      <td>1.00000</td>\n",
       "      <td>-73.99160</td>\n",
       "      <td>40.72820</td>\n",
       "      <td>2495.00000</td>\n",
       "    </tr>\n",
       "    <tr>\n",
       "      <th>50%</th>\n",
       "      <td>1.00000</td>\n",
       "      <td>1.00000</td>\n",
       "      <td>-73.97790</td>\n",
       "      <td>40.75140</td>\n",
       "      <td>3100.00000</td>\n",
       "    </tr>\n",
       "    <tr>\n",
       "      <th>75%</th>\n",
       "      <td>1.00000</td>\n",
       "      <td>2.00000</td>\n",
       "      <td>-73.95450</td>\n",
       "      <td>40.77430</td>\n",
       "      <td>4000.00000</td>\n",
       "    </tr>\n",
       "    <tr>\n",
       "      <th>max</th>\n",
       "      <td>4.50000</td>\n",
       "      <td>7.00000</td>\n",
       "      <td>158.39500</td>\n",
       "      <td>49.34300</td>\n",
       "      <td>9995.00000</td>\n",
       "    </tr>\n",
       "  </tbody>\n",
       "</table>\n",
       "</div>"
      ],
      "text/plain": [
       "        bathrooms    bedrooms   longitude    latitude       price\n",
       "count 19551.00000 19551.00000 19551.00000 19551.00000 19551.00000\n",
       "mean      1.17787     1.51010   -73.84505    40.71447  3437.45599\n",
       "std       0.42119     1.08893     6.63172     1.67728  1399.71288\n",
       "min       0.00000     0.00000  -124.01510   -18.97900  1048.00000\n",
       "25%       1.00000     1.00000   -73.99160    40.72820  2495.00000\n",
       "50%       1.00000     1.00000   -73.97790    40.75140  3100.00000\n",
       "75%       1.00000     2.00000   -73.95450    40.77430  4000.00000\n",
       "max       4.50000     7.00000   158.39500    49.34300  9995.00000"
      ]
     },
     "execution_count": 30,
     "metadata": {},
     "output_type": "execute_result"
    }
   ],
   "source": [
    "df_clean.describe()"
   ]
  },
  {
   "cell_type": "code",
   "execution_count": 49,
   "metadata": {},
   "outputs": [],
   "source": [
    "#deleting apartments outside New York city\n",
    "df_clean = df_clean[(df_clean['latitude']>40.55) &\n",
    "                    (df_clean['latitude']<40.94) &\n",
    "                    (df_clean['longitude']>-74.1) &\n",
    "                    (df_clean['longitude']<-73.67)]"
   ]
  },
  {
   "cell_type": "code",
   "execution_count": 32,
   "metadata": {},
   "outputs": [
    {
     "data": {
      "text/html": [
       "<div>\n",
       "<style scoped>\n",
       "    .dataframe tbody tr th:only-of-type {\n",
       "        vertical-align: middle;\n",
       "    }\n",
       "\n",
       "    .dataframe tbody tr th {\n",
       "        vertical-align: top;\n",
       "    }\n",
       "\n",
       "    .dataframe thead th {\n",
       "        text-align: right;\n",
       "    }\n",
       "</style>\n",
       "<table border=\"1\" class=\"dataframe\">\n",
       "  <thead>\n",
       "    <tr style=\"text-align: right;\">\n",
       "      <th></th>\n",
       "      <th>bathrooms</th>\n",
       "      <th>bedrooms</th>\n",
       "      <th>longitude</th>\n",
       "      <th>latitude</th>\n",
       "      <th>price</th>\n",
       "    </tr>\n",
       "  </thead>\n",
       "  <tbody>\n",
       "    <tr>\n",
       "      <th>count</th>\n",
       "      <td>19498.00000</td>\n",
       "      <td>19498.00000</td>\n",
       "      <td>19498.00000</td>\n",
       "      <td>19498.00000</td>\n",
       "      <td>19498.00000</td>\n",
       "    </tr>\n",
       "    <tr>\n",
       "      <th>mean</th>\n",
       "      <td>1.17776</td>\n",
       "      <td>1.51010</td>\n",
       "      <td>-73.97228</td>\n",
       "      <td>40.75091</td>\n",
       "      <td>3438.38778</td>\n",
       "    </tr>\n",
       "    <tr>\n",
       "      <th>std</th>\n",
       "      <td>0.42110</td>\n",
       "      <td>1.08920</td>\n",
       "      <td>0.02959</td>\n",
       "      <td>0.03966</td>\n",
       "      <td>1400.00930</td>\n",
       "    </tr>\n",
       "    <tr>\n",
       "      <th>min</th>\n",
       "      <td>0.00000</td>\n",
       "      <td>0.00000</td>\n",
       "      <td>-74.06040</td>\n",
       "      <td>40.57570</td>\n",
       "      <td>1048.00000</td>\n",
       "    </tr>\n",
       "    <tr>\n",
       "      <th>25%</th>\n",
       "      <td>1.00000</td>\n",
       "      <td>1.00000</td>\n",
       "      <td>-73.99160</td>\n",
       "      <td>40.72820</td>\n",
       "      <td>2495.00000</td>\n",
       "    </tr>\n",
       "    <tr>\n",
       "      <th>50%</th>\n",
       "      <td>1.00000</td>\n",
       "      <td>1.00000</td>\n",
       "      <td>-73.97790</td>\n",
       "      <td>40.75140</td>\n",
       "      <td>3100.00000</td>\n",
       "    </tr>\n",
       "    <tr>\n",
       "      <th>75%</th>\n",
       "      <td>1.00000</td>\n",
       "      <td>2.00000</td>\n",
       "      <td>-73.95460</td>\n",
       "      <td>40.77410</td>\n",
       "      <td>4000.00000</td>\n",
       "    </tr>\n",
       "    <tr>\n",
       "      <th>max</th>\n",
       "      <td>4.50000</td>\n",
       "      <td>7.00000</td>\n",
       "      <td>-73.70010</td>\n",
       "      <td>40.91540</td>\n",
       "      <td>9995.00000</td>\n",
       "    </tr>\n",
       "  </tbody>\n",
       "</table>\n",
       "</div>"
      ],
      "text/plain": [
       "        bathrooms    bedrooms   longitude    latitude       price\n",
       "count 19498.00000 19498.00000 19498.00000 19498.00000 19498.00000\n",
       "mean      1.17776     1.51010   -73.97228    40.75091  3438.38778\n",
       "std       0.42110     1.08920     0.02959     0.03966  1400.00930\n",
       "min       0.00000     0.00000   -74.06040    40.57570  1048.00000\n",
       "25%       1.00000     1.00000   -73.99160    40.72820  2495.00000\n",
       "50%       1.00000     1.00000   -73.97790    40.75140  3100.00000\n",
       "75%       1.00000     2.00000   -73.95460    40.77410  4000.00000\n",
       "max       4.50000     7.00000   -73.70010    40.91540  9995.00000"
      ]
     },
     "execution_count": 32,
     "metadata": {},
     "output_type": "execute_result"
    }
   ],
   "source": [
    "df_clean.describe()"
   ]
  },
  {
   "cell_type": "markdown",
   "metadata": {},
   "source": [
    "### Part 3 - Create and evaluate a final model\n",
    "\n",
    "Create the final model using the deonised data, compare the original models and the new model using oob **score** and the **R-squared**.\n"
   ]
  },
  {
   "cell_type": "code",
   "execution_count": 33,
   "metadata": {},
   "outputs": [],
   "source": [
    "X = df_clean.drop('price', axis=1)\n",
    "y = df_clean['price']\n",
    "X_train, X_test, y_train, y_test = train_test_split(X, y, test_size=0.2, random_state=123)"
   ]
  },
  {
   "cell_type": "code",
   "execution_count": 34,
   "metadata": {},
   "outputs": [],
   "source": [
    "rf = RandomForestRegressor(n_estimators=100,\n",
    "                           n_jobs=-1)"
   ]
  },
  {
   "cell_type": "code",
   "execution_count": 35,
   "metadata": {},
   "outputs": [
    {
     "data": {
      "text/plain": [
       "RandomForestRegressor(n_jobs=-1)"
      ]
     },
     "execution_count": 35,
     "metadata": {},
     "output_type": "execute_result"
    }
   ],
   "source": [
    "rf.fit(X_train, y_train)"
   ]
  },
  {
   "cell_type": "code",
   "execution_count": 36,
   "metadata": {},
   "outputs": [
    {
     "name": "stdout",
     "output_type": "stream",
     "text": [
      "0.9489\n"
     ]
    }
   ],
   "source": [
    "r2 = rf.score(X_train, y_train)\n",
    "print( f\"{r2:.4f}\" )"
   ]
  },
  {
   "cell_type": "code",
   "execution_count": 37,
   "metadata": {},
   "outputs": [
    {
     "name": "stdout",
     "output_type": "stream",
     "text": [
      "$188 average error; 5.48% error\n"
     ]
    }
   ],
   "source": [
    "from sklearn.metrics import mean_absolute_error\n",
    "\n",
    "predictions = rf.predict(X_train)\n",
    "\n",
    "e_train = mean_absolute_error(y_train, predictions)\n",
    "\n",
    "ep_train = e_train*100 / y.mean()\n",
    "\n",
    "print(f\"${e_train:.0f} average error; {ep_train:.2f}% error\")"
   ]
  },
  {
   "cell_type": "code",
   "execution_count": 38,
   "metadata": {},
   "outputs": [
    {
     "name": "stdout",
     "output_type": "stream",
     "text": [
      "OOB score 0.8114\n"
     ]
    }
   ],
   "source": [
    "rf = RandomForestRegressor(n_estimators=100,\n",
    "                           n_jobs=-1,\n",
    "                           oob_score=True)   # get error estimate\n",
    "rf.fit(X_train, y_train)\n",
    "noisy_oob_r2 = rf.oob_score_\n",
    "print(f\"OOB score {noisy_oob_r2:.4f}\")"
   ]
  },
  {
   "cell_type": "code",
   "execution_count": 39,
   "metadata": {},
   "outputs": [
    {
     "data": {
      "text/plain": [
       "RandomForestRegressor(n_jobs=-1, oob_score=True)"
      ]
     },
     "execution_count": 39,
     "metadata": {},
     "output_type": "execute_result"
    }
   ],
   "source": [
    "rf.fit(X_test, y_test)"
   ]
  },
  {
   "cell_type": "code",
   "execution_count": 40,
   "metadata": {},
   "outputs": [
    {
     "name": "stdout",
     "output_type": "stream",
     "text": [
      "$198 average error; 5.77% error\n"
     ]
    }
   ],
   "source": [
    "predictions = rf.predict(X_test)\n",
    "\n",
    "e_test = mean_absolute_error(y_test, predictions)\n",
    "\n",
    "ep_test = e_test*100 / y.mean()\n",
    "\n",
    "print(f\"${e_test:.0f} average error; {ep_test:.2f}% error\")"
   ]
  },
  {
   "cell_type": "code",
   "execution_count": 41,
   "metadata": {},
   "outputs": [
    {
     "name": "stdout",
     "output_type": "stream",
     "text": [
      "0.9505\n"
     ]
    }
   ],
   "source": [
    "r2_test = rf.score(X_test, y_test)\n",
    "print( f\"{r2_test:.4f}\" )"
   ]
  },
  {
   "cell_type": "code",
   "execution_count": 42,
   "metadata": {},
   "outputs": [
    {
     "name": "stdout",
     "output_type": "stream",
     "text": [
      "OOB score 0.7535\n"
     ]
    }
   ],
   "source": [
    "rf = RandomForestRegressor(n_estimators=100,\n",
    "                           n_jobs=-1,\n",
    "                           oob_score=True)   # get error estimate\n",
    "rf.fit(X_test, y_test)\n",
    "noisy_oob_r2_test = rf.oob_score_\n",
    "print(f\"OOB score {noisy_oob_r2_test:.4f}\")"
   ]
  },
  {
   "cell_type": "markdown",
   "metadata": {},
   "source": [
    "We have used cleaned dataset for training and testing in the above part and divided the dataset into training and testing daatasets with testing dataset containing 20% data. Next we have calculated r squared score,Mean absolute error and out of bag score for both training and testing datasets. For training dataset R2 is 0.9489 which indicates that the model is performing very good and it can predict 94.89% of unseen data correctly.The error rate is also 5.48% only and OOB score has increased a lot to 0.8114 which is quiet good. For testing dataset value of R2 is 0.9505 which indicates that the model will predict 95% of unseen data correctly. Also, MSE and OOB are shwoing positive outlook that the model performing as per expectation on both training and testing dataset after cleaning."
   ]
  },
  {
   "cell_type": "markdown",
   "metadata": {},
   "source": [
    "### Part 4 - Documenting the problems\n"
   ]
  },
  {
   "cell_type": "markdown",
   "metadata": {},
   "source": [
    "| Data issue discovered | Why is this a problem? | How did you fix it? | Why is this fix appropriate? |\n",
    "| :- | :- | :- | :- | \n",
    "|  Price values is coming in exponential form in describe function  | The price variable in describe function was coming in the format \"4.393476e+06\"    | We have set the format to display float varibale to 5 decimal places   | Its better because we are not making any change in the dataset we are only changing the display of float variables   |\n",
    "|  Closely observing the output of describe function we can see there are very expensive flats or possible outliers   | There are guaranteed to be some ultra-expensive apartments in New York City, as well as a sprinkling of units from there down to the plain very-expensive apartments. Upon observing the distribution of price as sorting the prices in reverse order and looking at the top price values we can see that there are values like \"1070000.00000,135000.00000...\"   | The most crucial filter to use is one that connects to our model's goals, which in this case are fairly priced apartments in New York City. We can confidently delete any records that fall outside of the minimum and maximum price range of 1000 dollars and 10000 dollars.  | upon observing we can see that price column has some negative values which indicates that there are some error in data collection also If we focus on the New York City neighbourhood with two apartments over $1,000,000, we can find other apartments with similar features at more affordable costs which indicates those exorbitantly priced residences could be anomalies or outliers. So we have set up a min and max price range to deal with these anomalies.    |\n",
    "|  Strange things are going on with the longitude and latitude characteristics, as well, as revealed by the df num.describe(). At site 0,0, there are 6 flats which is not possible.  | Because actual values of 0 are not absent, we can consider these values to be erroneous or, most typically, noise.Noise and outliers are potential problems because they can lead to inconsistencies      | We have deleted these 6 values containing zeros in latitude and longitude     | As we dont have appropriate location of these apartments so we will not  able to change the values to mean as the price will change as per the localities   |\n",
    "|  There are a few apartments with GPS coordinates that place them in different cities.  | These coordinates could be mistakes or the result of apartment managers' erroneous lookups. We have considered these as noise as we are dealing with dataset of New York    | We have deleted these values as the number of errors are not much.The latitude and longitude of New York City are 40.55, -74.1 on the bottom left and 40.94, -73.67 on the upper right.  | Because these records do not fall inside the model's previously declared purpose of creating the model for New York city data so deleting them is appropriate step . |"
   ]
  }
 ],
 "metadata": {
  "kernelspec": {
   "display_name": "Python 3",
   "language": "python",
   "name": "python3"
  },
  "language_info": {
   "codemirror_mode": {
    "name": "ipython",
    "version": 3
   },
   "file_extension": ".py",
   "mimetype": "text/x-python",
   "name": "python",
   "nbconvert_exporter": "python",
   "pygments_lexer": "ipython3",
   "version": "3.8.8"
  }
 },
 "nbformat": 4,
 "nbformat_minor": 4
}
